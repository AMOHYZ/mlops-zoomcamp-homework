{
 "cells": [
  {
   "cell_type": "code",
   "execution_count": 3,
   "id": "cac7e6f8",
   "metadata": {
    "ExecuteTime": {
     "end_time": "2022-06-02T09:25:04.607188Z",
     "start_time": "2022-06-02T09:25:04.385954Z"
    }
   },
   "outputs": [],
   "source": [
    "import mlflow\n",
    "import pandas as pd\n",
    "import sklearn"
   ]
  },
  {
   "cell_type": "markdown",
   "id": "88b14346",
   "metadata": {},
   "source": [
    "## Q1. Install MLflow"
   ]
  },
  {
   "cell_type": "code",
   "execution_count": 6,
   "id": "14fefb09",
   "metadata": {
    "ExecuteTime": {
     "end_time": "2022-06-02T09:28:42.018897Z",
     "start_time": "2022-06-02T09:28:42.013728Z"
    }
   },
   "outputs": [
    {
     "name": "stdout",
     "output_type": "stream",
     "text": [
      "1.26.1\n"
     ]
    }
   ],
   "source": [
    "print(mlflow.__version__)"
   ]
  },
  {
   "cell_type": "markdown",
   "id": "ce680b4e",
   "metadata": {},
   "source": [
    "## Q2. Download and preprocess the data"
   ]
  },
  {
   "cell_type": "code",
   "execution_count": 11,
   "id": "21ba45af",
   "metadata": {
    "ExecuteTime": {
     "end_time": "2022-06-02T09:32:23.107509Z",
     "start_time": "2022-06-02T09:32:19.990351Z"
    }
   },
   "outputs": [],
   "source": [
    "!python preprocess_data.py --raw_data_path ../data/ --dest_path ./output"
   ]
  },
  {
   "cell_type": "markdown",
   "id": "4f04c62e",
   "metadata": {},
   "source": [
    "## Q3. Train a model with autolog"
   ]
  },
  {
   "cell_type": "code",
   "execution_count": 25,
   "id": "81d60472",
   "metadata": {
    "ExecuteTime": {
     "end_time": "2022-06-02T10:45:12.379871Z",
     "start_time": "2022-06-02T10:44:51.991682Z"
    }
   },
   "outputs": [
    {
     "name": "stdout",
     "output_type": "stream",
     "text": [
      "2022/06/02 12:44:53 INFO mlflow.tracking.fluent: Experiment with name 'nyc-taxi-experiment' does not exist. Creating a new experiment.\n",
      "2022/06/02 12:45:11 WARNING mlflow.utils.autologging_utils: MLflow autologging encountered a warning: \"/home/amohy/miniconda3/envs/mlops/lib/python3.7/site-packages/_distutils_hack/__init__.py:30: UserWarning: Setuptools is replacing distutils.\"\n"
     ]
    }
   ],
   "source": [
    "! python train.py"
   ]
  },
  {
   "cell_type": "markdown",
   "id": "ec4f0bf1",
   "metadata": {},
   "source": [
    "## Q4. Launch the tracking server locally"
   ]
  },
  {
   "cell_type": "code",
   "execution_count": null,
   "id": "89df7690",
   "metadata": {},
   "outputs": [],
   "source": [
    "! mlflow ui --backend-store-uri sqlite:///mlflow.db --default-artifact-root ./artifacts"
   ]
  },
  {
   "cell_type": "markdown",
   "id": "f8cc8081",
   "metadata": {},
   "source": [
    "## Q5. Tune the hyperparameters of the model"
   ]
  },
  {
   "cell_type": "code",
   "execution_count": 26,
   "id": "16a88fad",
   "metadata": {
    "ExecuteTime": {
     "end_time": "2022-06-02T11:12:50.771904Z",
     "start_time": "2022-06-02T11:06:09.223665Z"
    }
   },
   "outputs": [
    {
     "name": "stdout",
     "output_type": "stream",
     "text": [
      "2022/06/02 13:06:10 INFO mlflow.tracking.fluent: Experiment with name 'random-forest-hyperopt' does not exist. Creating a new experiment.\n",
      "100%|█████████| 50/50 [06:39<00:00,  8.00s/trial, best loss: 6.6284257482044735]\n"
     ]
    }
   ],
   "source": [
    "! python hpo.py"
   ]
  },
  {
   "cell_type": "markdown",
   "id": "7a84b6dd",
   "metadata": {},
   "source": [
    "## Q6. Promote the best model to the model registry"
   ]
  },
  {
   "cell_type": "code",
   "execution_count": 28,
   "id": "db9344c1",
   "metadata": {
    "ExecuteTime": {
     "end_time": "2022-06-02T12:31:11.928054Z",
     "start_time": "2022-06-02T12:29:50.145492Z"
    }
   },
   "outputs": [
    {
     "name": "stdout",
     "output_type": "stream",
     "text": [
      "5\n",
      "2022/06/02 14:30:06 WARNING mlflow.utils.autologging_utils: MLflow autologging encountered a warning: \"/home/amohy/miniconda3/envs/mlops/lib/python3.7/site-packages/_distutils_hack/__init__.py:30: UserWarning: Setuptools is replacing distutils.\"\n",
      "Successfully registered model 'random-forest-best-models'.\n",
      "2022/06/02 14:31:11 INFO mlflow.tracking._model_registry.client: Waiting up to 300 seconds for model version to finish creation.                     Model name: random-forest-best-models, version 1\n",
      "Created version '1' of model 'random-forest-best-models'.\n"
     ]
    }
   ],
   "source": [
    "! python register_model.py"
   ]
  },
  {
   "cell_type": "code",
   "execution_count": null,
   "id": "c34090a7",
   "metadata": {},
   "outputs": [],
   "source": []
  }
 ],
 "metadata": {
  "kernelspec": {
   "display_name": "Python 3 (ipykernel)",
   "language": "python",
   "name": "python3"
  },
  "language_info": {
   "codemirror_mode": {
    "name": "ipython",
    "version": 3
   },
   "file_extension": ".py",
   "mimetype": "text/x-python",
   "name": "python",
   "nbconvert_exporter": "python",
   "pygments_lexer": "ipython3",
   "version": "3.7.3"
  }
 },
 "nbformat": 4,
 "nbformat_minor": 5
}
