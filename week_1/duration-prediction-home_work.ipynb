{
 "cells": [
  {
   "cell_type": "code",
   "execution_count": 1,
   "id": "b2bd82d7",
   "metadata": {
    "ExecuteTime": {
     "end_time": "2022-05-24T14:40:37.637504Z",
     "start_time": "2022-05-24T14:40:37.517558Z"
    }
   },
   "outputs": [
    {
     "name": "stdout",
     "output_type": "stream",
     "text": [
      "Python 3.7.3\r\n"
     ]
    }
   ],
   "source": [
    "!python -V"
   ]
  },
  {
   "cell_type": "code",
   "execution_count": 2,
   "id": "41062d8a",
   "metadata": {
    "ExecuteTime": {
     "end_time": "2022-05-24T14:40:38.291988Z",
     "start_time": "2022-05-24T14:40:37.952934Z"
    }
   },
   "outputs": [],
   "source": [
    "import pandas as pd"
   ]
  },
  {
   "cell_type": "code",
   "execution_count": 3,
   "id": "c984c564",
   "metadata": {
    "ExecuteTime": {
     "end_time": "2022-05-24T14:40:38.346032Z",
     "start_time": "2022-05-24T14:40:38.343516Z"
    }
   },
   "outputs": [],
   "source": [
    "import pickle"
   ]
  },
  {
   "cell_type": "code",
   "execution_count": 4,
   "id": "4add538c",
   "metadata": {
    "ExecuteTime": {
     "end_time": "2022-05-24T14:40:39.955393Z",
     "start_time": "2022-05-24T14:40:39.066853Z"
    }
   },
   "outputs": [],
   "source": [
    "import seaborn as sns\n",
    "import matplotlib.pyplot as plt"
   ]
  },
  {
   "cell_type": "code",
   "execution_count": 5,
   "id": "8b135c2b",
   "metadata": {
    "ExecuteTime": {
     "end_time": "2022-05-24T14:40:40.016380Z",
     "start_time": "2022-05-24T14:40:39.956583Z"
    }
   },
   "outputs": [],
   "source": [
    "from sklearn.feature_extraction import DictVectorizer\n",
    "from sklearn.linear_model import LinearRegression\n",
    "from sklearn.linear_model import Lasso\n",
    "from sklearn.linear_model import Ridge\n",
    "\n",
    "from sklearn.metrics import mean_squared_error"
   ]
  },
  {
   "cell_type": "code",
   "execution_count": 12,
   "id": "8e013caf",
   "metadata": {
    "ExecuteTime": {
     "end_time": "2022-05-24T14:49:58.574331Z",
     "start_time": "2022-05-24T14:49:50.756310Z"
    }
   },
   "outputs": [
    {
     "name": "stdout",
     "output_type": "stream",
     "text": [
      "(1154112, 7)\n",
      "19.167224093791006\n"
     ]
    }
   ],
   "source": [
    "df = pd.read_parquet('./data/fhv_tripdata_2021-01.parquet')\n",
    "print(df.shape)\n",
    "df['duration'] = df.dropOff_datetime - df.pickup_datetime\n",
    "df.duration = df.duration.apply(lambda td: td.total_seconds() / 60)\n",
    "print(df.duration.mean())\n",
    "df = df[(df.duration >= 1) & (df.duration <= 60)]\n",
    "\n"
   ]
  },
  {
   "cell_type": "code",
   "execution_count": 25,
   "id": "b61da1c3",
   "metadata": {
    "ExecuteTime": {
     "end_time": "2022-05-24T14:59:16.101333Z",
     "start_time": "2022-05-24T14:59:16.090569Z"
    }
   },
   "outputs": [
    {
     "data": {
      "text/html": [
       "<div>\n",
       "<style scoped>\n",
       "    .dataframe tbody tr th:only-of-type {\n",
       "        vertical-align: middle;\n",
       "    }\n",
       "\n",
       "    .dataframe tbody tr th {\n",
       "        vertical-align: top;\n",
       "    }\n",
       "\n",
       "    .dataframe thead th {\n",
       "        text-align: right;\n",
       "    }\n",
       "</style>\n",
       "<table border=\"1\" class=\"dataframe\">\n",
       "  <thead>\n",
       "    <tr style=\"text-align: right;\">\n",
       "      <th></th>\n",
       "      <th>dispatching_base_num</th>\n",
       "      <th>pickup_datetime</th>\n",
       "      <th>dropOff_datetime</th>\n",
       "      <th>PUlocationID</th>\n",
       "      <th>DOlocationID</th>\n",
       "      <th>SR_Flag</th>\n",
       "      <th>Affiliated_base_number</th>\n",
       "      <th>duration</th>\n",
       "    </tr>\n",
       "  </thead>\n",
       "  <tbody>\n",
       "    <tr>\n",
       "      <th>0</th>\n",
       "      <td>B00009</td>\n",
       "      <td>2021-01-01 00:27:00</td>\n",
       "      <td>2021-01-01 00:44:00</td>\n",
       "      <td>-1.0</td>\n",
       "      <td>-1.0</td>\n",
       "      <td>None</td>\n",
       "      <td>B00009</td>\n",
       "      <td>17.000000</td>\n",
       "    </tr>\n",
       "    <tr>\n",
       "      <th>1</th>\n",
       "      <td>B00009</td>\n",
       "      <td>2021-01-01 00:50:00</td>\n",
       "      <td>2021-01-01 01:07:00</td>\n",
       "      <td>-1.0</td>\n",
       "      <td>-1.0</td>\n",
       "      <td>None</td>\n",
       "      <td>B00009</td>\n",
       "      <td>17.000000</td>\n",
       "    </tr>\n",
       "    <tr>\n",
       "      <th>3</th>\n",
       "      <td>B00037</td>\n",
       "      <td>2021-01-01 00:13:09</td>\n",
       "      <td>2021-01-01 00:21:26</td>\n",
       "      <td>-1.0</td>\n",
       "      <td>72.0</td>\n",
       "      <td>None</td>\n",
       "      <td>B00037</td>\n",
       "      <td>8.283333</td>\n",
       "    </tr>\n",
       "    <tr>\n",
       "      <th>4</th>\n",
       "      <td>B00037</td>\n",
       "      <td>2021-01-01 00:38:31</td>\n",
       "      <td>2021-01-01 00:53:44</td>\n",
       "      <td>-1.0</td>\n",
       "      <td>61.0</td>\n",
       "      <td>None</td>\n",
       "      <td>B00037</td>\n",
       "      <td>15.216667</td>\n",
       "    </tr>\n",
       "    <tr>\n",
       "      <th>5</th>\n",
       "      <td>B00037</td>\n",
       "      <td>2021-01-01 00:59:02</td>\n",
       "      <td>2021-01-01 01:08:05</td>\n",
       "      <td>-1.0</td>\n",
       "      <td>71.0</td>\n",
       "      <td>None</td>\n",
       "      <td>B00037</td>\n",
       "      <td>9.050000</td>\n",
       "    </tr>\n",
       "  </tbody>\n",
       "</table>\n",
       "</div>"
      ],
      "text/plain": [
       "  dispatching_base_num     pickup_datetime    dropOff_datetime PUlocationID  \\\n",
       "0               B00009 2021-01-01 00:27:00 2021-01-01 00:44:00         -1.0   \n",
       "1               B00009 2021-01-01 00:50:00 2021-01-01 01:07:00         -1.0   \n",
       "3               B00037 2021-01-01 00:13:09 2021-01-01 00:21:26         -1.0   \n",
       "4               B00037 2021-01-01 00:38:31 2021-01-01 00:53:44         -1.0   \n",
       "5               B00037 2021-01-01 00:59:02 2021-01-01 01:08:05         -1.0   \n",
       "\n",
       "  DOlocationID SR_Flag Affiliated_base_number   duration  \n",
       "0         -1.0    None                 B00009  17.000000  \n",
       "1         -1.0    None                 B00009  17.000000  \n",
       "3         72.0    None                 B00037   8.283333  \n",
       "4         61.0    None                 B00037  15.216667  \n",
       "5         71.0    None                 B00037   9.050000  "
      ]
     },
     "execution_count": 25,
     "metadata": {},
     "output_type": "execute_result"
    }
   ],
   "source": [
    "df.head()"
   ]
  },
  {
   "cell_type": "code",
   "execution_count": 13,
   "id": "30702060",
   "metadata": {
    "ExecuteTime": {
     "end_time": "2022-05-24T14:50:10.324546Z",
     "start_time": "2022-05-24T14:50:10.299037Z"
    }
   },
   "outputs": [],
   "source": [
    "df.loc[df['PUlocationID'].isna(),'PUlocationID']=-1\n",
    "df.loc[df['DOlocationID'].isna(),'DOlocationID']=-1"
   ]
  },
  {
   "cell_type": "code",
   "execution_count": 14,
   "id": "4a446f76",
   "metadata": {
    "ExecuteTime": {
     "end_time": "2022-05-24T14:50:39.822097Z",
     "start_time": "2022-05-24T14:50:39.806419Z"
    }
   },
   "outputs": [
    {
     "data": {
      "text/plain": [
       "-1.0      8.352733e-01\n",
       " 221.0    7.505681e-03\n",
       " 206.0    6.124383e-03\n",
       " 129.0    4.846706e-03\n",
       " 115.0    3.678054e-03\n",
       "              ...     \n",
       " 111.0    4.505211e-06\n",
       " 27.0     3.604169e-06\n",
       " 34.0     2.703126e-06\n",
       " 2.0      1.802084e-06\n",
       " 110.0    9.010421e-07\n",
       "Name: PUlocationID, Length: 262, dtype: float64"
      ]
     },
     "execution_count": 14,
     "metadata": {},
     "output_type": "execute_result"
    }
   ],
   "source": [
    "df['PUlocationID'].value_counts()/df.shape[0]"
   ]
  },
  {
   "cell_type": "code",
   "execution_count": 15,
   "id": "ffee1a90",
   "metadata": {
    "ExecuteTime": {
     "end_time": "2022-05-24T14:51:46.705769Z",
     "start_time": "2022-05-24T14:51:45.930893Z"
    }
   },
   "outputs": [],
   "source": [
    "categorical = ['PUlocationID', 'DOlocationID']\n",
    "#numerical = ['trip_distance']\n",
    "\n",
    "df[categorical] = df[categorical].astype(str)"
   ]
  },
  {
   "cell_type": "code",
   "execution_count": 16,
   "id": "116ff0cc",
   "metadata": {
    "ExecuteTime": {
     "end_time": "2022-05-24T14:54:06.691058Z",
     "start_time": "2022-05-24T14:53:15.702208Z"
    }
   },
   "outputs": [],
   "source": [
    "train_dicts = df[categorical].to_dict(orient='records')\n",
    "\n",
    "dv = DictVectorizer()\n",
    "X_train = dv.fit_transform(train_dicts)\n",
    "\n"
   ]
  },
  {
   "cell_type": "code",
   "execution_count": 17,
   "id": "525f558c",
   "metadata": {
    "ExecuteTime": {
     "end_time": "2022-05-24T14:54:09.167689Z",
     "start_time": "2022-05-24T14:54:09.164398Z"
    }
   },
   "outputs": [
    {
     "data": {
      "text/plain": [
       "(1109826, 525)"
      ]
     },
     "execution_count": 17,
     "metadata": {},
     "output_type": "execute_result"
    }
   ],
   "source": [
    "X_train.shape"
   ]
  },
  {
   "cell_type": "code",
   "execution_count": 18,
   "id": "9910e7cd",
   "metadata": {
    "ExecuteTime": {
     "end_time": "2022-05-24T14:55:57.546959Z",
     "start_time": "2022-05-24T14:55:49.097204Z"
    }
   },
   "outputs": [],
   "source": [
    "target = 'duration'\n",
    "y_train = df[target].values\n",
    "\n",
    "lr = LinearRegression()\n",
    "lr.fit(X_train, y_train)\n",
    "\n",
    "y_pred = lr.predict(X_train)\n",
    "\n"
   ]
  },
  {
   "cell_type": "code",
   "execution_count": 19,
   "id": "21191dd9",
   "metadata": {
    "ExecuteTime": {
     "end_time": "2022-05-24T14:55:59.669089Z",
     "start_time": "2022-05-24T14:55:59.657388Z"
    }
   },
   "outputs": [
    {
     "data": {
      "text/plain": [
       "10.528519107212912"
      ]
     },
     "execution_count": 19,
     "metadata": {},
     "output_type": "execute_result"
    }
   ],
   "source": [
    "mean_squared_error(y_train, y_pred, squared=False)"
   ]
  },
  {
   "cell_type": "code",
   "execution_count": 20,
   "id": "b134c97b",
   "metadata": {
    "ExecuteTime": {
     "end_time": "2022-05-24T14:56:40.118184Z",
     "start_time": "2022-05-24T14:56:33.190061Z"
    }
   },
   "outputs": [
    {
     "name": "stderr",
     "output_type": "stream",
     "text": [
      "/home/amohy/miniconda3/envs/recco/lib/python3.7/site-packages/seaborn/distributions.py:2619: FutureWarning: `distplot` is a deprecated function and will be removed in a future version. Please adapt your code to use either `displot` (a figure-level function with similar flexibility) or `histplot` (an axes-level function for histograms).\n",
      "  warnings.warn(msg, FutureWarning)\n",
      "/home/amohy/miniconda3/envs/recco/lib/python3.7/site-packages/seaborn/distributions.py:2619: FutureWarning: `distplot` is a deprecated function and will be removed in a future version. Please adapt your code to use either `displot` (a figure-level function with similar flexibility) or `histplot` (an axes-level function for histograms).\n",
      "  warnings.warn(msg, FutureWarning)\n"
     ]
    },
    {
     "data": {
      "text/plain": [
       "<matplotlib.legend.Legend at 0x7fa92478b358>"
      ]
     },
     "execution_count": 20,
     "metadata": {},
     "output_type": "execute_result"
    },
    {
     "data": {
      "image/png": "[encoded data removed]",
      "text/plain": [
       "<Figure size 432x288 with 1 Axes>"
      ]
     },
     "metadata": {
      "needs_background": "light"
     },
     "output_type": "display_data"
    }
   ],
   "source": [
    "sns.distplot(y_pred, label='prediction')\n",
    "sns.distplot(y_train, label='actual')\n",
    "\n",
    "plt.legend()"
   ]
  },
  {
   "cell_type": "code",
   "execution_count": 35,
   "id": "f9e6479e",
   "metadata": {
    "ExecuteTime": {
     "end_time": "2022-05-24T15:04:49.578357Z",
     "start_time": "2022-05-24T15:04:49.574040Z"
    }
   },
   "outputs": [],
   "source": [
    "def read_dataframe(filename):\n",
    "    if filename.endswith('.csv'):\n",
    "        df = pd.read_csv(filename)\n",
    "\n",
    "        df.lpep_dropoff_datetime = pd.to_datetime(df.dropOff_datetime)\n",
    "        df.lpep_pickup_datetime = pd.to_datetime(df.pickup_datetime)\n",
    "    elif filename.endswith('.parquet'):\n",
    "        df = pd.read_parquet(filename)\n",
    "\n",
    "    df['duration'] = df.dropOff_datetime - df.pickup_datetime\n",
    "    df.duration = df.duration.apply(lambda td: td.total_seconds() / 60)\n",
    "\n",
    "    df = df[(df.duration >= 1) & (df.duration <= 60)]\n",
    "    df.loc[df['PUlocationID'].isna(),'PUlocationID']=-1\n",
    "    df.loc[df['DOlocationID'].isna(),'DOlocationID']=-1\n",
    "\n",
    "    categorical = ['PUlocationID', 'DOlocationID']\n",
    "    df[categorical] = df[categorical].astype(str)\n",
    "    \n",
    "    return df"
   ]
  },
  {
   "cell_type": "code",
   "execution_count": 36,
   "id": "8029eba0",
   "metadata": {
    "ExecuteTime": {
     "end_time": "2022-05-24T15:04:58.815185Z",
     "start_time": "2022-05-24T15:04:50.849098Z"
    }
   },
   "outputs": [],
   "source": [
    "#df_train = read_dataframe('./data/fhv_tripdata_2021-01.parquet')\n",
    "df_val = read_dataframe('./data/fhv_tripdata_2021-02.parquet')"
   ]
  },
  {
   "cell_type": "code",
   "execution_count": 41,
   "id": "1e9fb68b",
   "metadata": {
    "ExecuteTime": {
     "end_time": "2022-05-24T15:06:10.640948Z",
     "start_time": "2022-05-24T15:06:10.639086Z"
    }
   },
   "outputs": [],
   "source": [
    "target = 'duration'\n",
    "#y_train = df_train[target].values\n",
    "y_val = df_val[target].values"
   ]
  },
  {
   "cell_type": "code",
   "execution_count": 42,
   "id": "429e2394",
   "metadata": {
    "ExecuteTime": {
     "end_time": "2022-05-24T15:06:10.839757Z",
     "start_time": "2022-05-24T15:06:10.819748Z"
    }
   },
   "outputs": [
    {
     "data": {
      "text/plain": [
       "11.014283201773349"
      ]
     },
     "execution_count": 42,
     "metadata": {},
     "output_type": "execute_result"
    }
   ],
   "source": [
    "y_pred = lr.predict(X_val)\n",
    "\n",
    "mean_squared_error(y_val, y_pred, squared=False)"
   ]
  }
 ],
 "metadata": {
  "kernelspec": {
   "display_name": "Python 3 (ipykernel)",
   "language": "python",
   "name": "python3"
  },
  "language_info": {
   "codemirror_mode": {
    "name": "ipython",
    "version": 3
   },
   "file_extension": ".py",
   "mimetype": "text/x-python",
   "name": "python",
   "nbconvert_exporter": "python",
   "pygments_lexer": "ipython3",
   "version": "3.7.3"
  }
 },
 "nbformat": 4,
 "nbformat_minor": 5
}
